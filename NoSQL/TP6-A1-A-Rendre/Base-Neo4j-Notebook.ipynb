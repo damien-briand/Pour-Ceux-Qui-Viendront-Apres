{
 "cells": [
  {
   "cell_type": "markdown",
   "id": "936b81f5-6755-45c8-a490-d02b3a036d1a",
   "metadata": {},
   "source": [
    "# Script avec les Fonctions de Base"
   ]
  },
  {
   "cell_type": "markdown",
   "id": "218bb2cc-8fdd-493b-8779-9c42540cf698",
   "metadata": {},
   "source": [
    "## Connexion a la Base de Données Neo4j"
   ]
  },
  {
   "cell_type": "code",
   "execution_count": 7,
   "id": "e002f039-1381-4610-840b-74674d4b297a",
   "metadata": {},
   "outputs": [],
   "source": [
    "from neo4j import GraphDatabase\n",
    "\n",
    "def execute_cypher_query(dbDriver, cypherQuery, queryParams={}) :\n",
    "    \"\"\" Execute une requête cypher et retourne les enregistrements obtenus.\n",
    "    \n",
    "    Arguments:\n",
    "    dbDriver -- the Neo4j driver\n",
    "    cypherQuery -- the cypher query to execute\n",
    "    queryParams -- the parameters to pass to the query\n",
    "\n",
    "    Returns:\n",
    "    The records returned by the query\n",
    "    \"\"\"\n",
    "    res = dbDriver.execute_query(\n",
    "        cypherQuery,\n",
    "        queryParams,\n",
    "    )\n",
    "    return res.records\n",
    "\n",
    "# Connexion à la base Neo4j\n",
    "DB_URL = 'bolt://localhost:7687'\n",
    "DB_USER = 'neo4j'\n",
    "DB_PASS = 'neo4jpassword'\n",
    "\n",
    "DB_DRIVER = GraphDatabase.driver(DB_URL, auth=(DB_USER, DB_PASS))"
   ]
  },
  {
   "cell_type": "markdown",
   "id": "e5470640-af3b-4f5e-be23-8603eb3744d8",
   "metadata": {},
   "source": [
    "## Game Fonctions"
   ]
  },
  {
   "cell_type": "code",
   "execution_count": 6,
   "id": "7b260c18-3949-4c8c-823e-732968941477",
   "metadata": {},
   "outputs": [],
   "source": [
    "def getNumber(text,choices=[]) :\n",
    "    \"\"\"\n",
    "    Demander à l'utilisateur de saisir un chiffre.\n",
    "    Si des choix sont spécifiés, l'utilisateur ne pourra entrer que l'un de ces choix.\n",
    "    \n",
    "    Arguments:\n",
    "    text -- le texte à afficher à l'utilisateur\n",
    "    choices -- les choix possibles\n",
    "\n",
    "    Returns:\n",
    "    Le chiffre saisi par l'utilisateur\n",
    "    \"\"\"\n",
    "    while True:\n",
    "        try:\n",
    "            digit = int(input(text))\n",
    "            if len(choices) == 0 or digit in choices:\n",
    "                return digit\n",
    "            else:\n",
    "                print(\"Veuillez entrer un chiffre entre \",min(choices),\" et \",max(choices),\".\", sep=\"\")\n",
    "        except ValueError:\n",
    "            print(\"Veuillez entrer un chiffre valide.\")\n",
    "\n",
    "def getDifficulty(diff1, diff2) :\n",
    "    print(\"Selection du niveau de difficulté souhaité :\")\n",
    "    print(\" - 1 :\", diff1)\n",
    "    print(\" - 2 :\", diff2)\n",
    "    return getNumber(\"Choisissez une difficulté (1 ou 2) : \",[1, 2])\n",
    "\n",
    "def diff_factor(diff):\n",
    "    return (2-diff)"
   ]
  },
  {
   "cell_type": "markdown",
   "id": "71f7f3e0-d944-4568-8790-840591dc2806",
   "metadata": {},
   "source": [
    "## Fonctions Films"
   ]
  },
  {
   "cell_type": "code",
   "execution_count": 10,
   "id": "9033874e-e0ce-4fcb-90a9-953c25d1f686",
   "metadata": {},
   "outputs": [],
   "source": [
    "def getRandomFilms(diff, count=1) :\n",
    "    factor = diff_factor(diff)\n",
    "    params = {\"budget\": (factor * 200000000), \"year\": (factor * 2000), \"count\": count}\n",
    "    query = '''\n",
    "    match (m:Movie)\n",
    "    where m.year >= $year and m.budget >= $budget\n",
    "    return m.title as movieTitle, rand() as randomNum\n",
    "    order by randomNum\n",
    "    limit $count\n",
    "    '''\n",
    "    return execute_cypher_query(DB_DRIVER, query, params)\n",
    "\n",
    "\n",
    "def getShortestMoviePath(actorName1,actorName2) :\n",
    "    params = {\"actorName1\": actorName1, \"actorName2\": actorName2}\n",
    "    query = '''\n",
    "    MATCH (fa:Actor {name: $actorName1})\n",
    "    MATCH (sa:Actor {name: $actorName2})\n",
    "    MATCH path = shortestPath((fa)-[:ACTED_IN*]-(sa))\n",
    "    UNWIND nodes(path) as n\n",
    "    MATCH (n:Movie)\n",
    "    RETURN n.title as movieTitle\n",
    "    '''\n",
    "    return execute_cypher_query(DB_DRIVER, query, params)"
   ]
  },
  {
   "cell_type": "markdown",
   "id": "8115b38e-f3b0-40c5-8333-61e6c1f4cdda",
   "metadata": {},
   "source": [
    "## Fonctions Actors"
   ]
  },
  {
   "cell_type": "code",
   "execution_count": 4,
   "id": "d38a07b1-5e5d-4eb2-97c1-9640889d12fa",
   "metadata": {},
   "outputs": [],
   "source": [
    "def getAllActors(movie) :\n",
    "    params = {\"movieTitle\": movie}\n",
    "    query = '''\n",
    "    match (a:Actor)\n",
    "    match (a)-[:ACTED_IN]->(m:Movie{title: $movieTitle})\n",
    "    return a.name as actorName\n",
    "    '''\n",
    "    return execute_cypher_query(DB_DRIVER, query, params)\n",
    "\n",
    "def getRandomActors(diff) :\n",
    "    factor = diff_factor(diff)\n",
    "    params = {\"minMovieCount\": (factor * 20)}\n",
    "    query = '''\n",
    "    match (a:Actor)\n",
    "    match (a)-[:ACTED_IN]->(m)\n",
    "    with a, count(m) as movies\n",
    "    where movies >= $minMovieCount\n",
    "    return a.name as actorName, rand() as randomNum\n",
    "    order by randomNum\n",
    "    limit 2\n",
    "    '''\n",
    "    return execute_cypher_query(DB_DRIVER, query, params)\n",
    "\n",
    "def getRandomActorsFromMovie(movie) :\n",
    "    params = {\"movieTitle\": movie}\n",
    "    query = '''\n",
    "    match (a:Actor)\n",
    "    match (a)-[:ACTED_IN]->(m:Movie{title: $movieTitle})\n",
    "    return a.name as actorName, rand() as randomNum\n",
    "    order by randomNum\n",
    "    limit 2\n",
    "    '''\n",
    "    actors = []\n",
    "    return execute_cypher_query(DB_DRIVER, query, params)"
   ]
  }
 ],
 "metadata": {
  "kernelspec": {
   "display_name": "_env_virtuel_neo",
   "language": "python",
   "name": "_env_virtuel_neo"
  },
  "language_info": {
   "codemirror_mode": {
    "name": "ipython",
    "version": 3
   },
   "file_extension": ".py",
   "mimetype": "text/x-python",
   "name": "python",
   "nbconvert_exporter": "python",
   "pygments_lexer": "ipython3",
   "version": "3.12.3"
  }
 },
 "nbformat": 4,
 "nbformat_minor": 5
}
