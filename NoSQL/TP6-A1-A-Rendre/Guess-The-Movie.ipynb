{
 "cells": [
  {
   "cell_type": "markdown",
   "id": "0085645a-ad81-46a7-ab42-98e3e4dffbe6",
   "metadata": {},
   "source": [
    "# Guess The Movie Game\n",
    "\n",
    "Le jeu consiste a deviner le bon film ou deux acteurs on jouer ensemble parmis quatre films proposer.\n",
    "\n",
    "Vous avez le choix entre deux difficultés."
   ]
  },
  {
   "cell_type": "code",
   "execution_count": 12,
   "id": "f1f60565-6028-4172-9f23-6e995d3d631a",
   "metadata": {},
   "outputs": [
    {
     "name": "stdout",
     "output_type": "stream",
     "text": [
      "Selection du niveau de difficulté souhaité :\n",
      " - 1 : uniquement des films blockbuster sortis en 2000 ou après\n",
      " - 2 : n'importe quel film\n"
     ]
    },
    {
     "name": "stdin",
     "output_type": "stream",
     "text": [
      "Choisissez une difficulté (1 ou 2) :  1\n"
     ]
    },
    {
     "name": "stdout",
     "output_type": "stream",
     "text": [
      "\n",
      "Dans quel film Judi Dench joue avec Olga Kurylenko ?\n",
      " - 1 : Spider-Man 3\n",
      " - 2 : Iron Man 3\n",
      " - 3 : 2012\n",
      " - 4 : Quantum of Solace\n"
     ]
    },
    {
     "name": "stdin",
     "output_type": "stream",
     "text": [
      "Saisir votre réponse :  2\n"
     ]
    },
    {
     "name": "stdout",
     "output_type": "stream",
     "text": [
      "\n",
      "Dommage... , le film était \"Quantum of Solace\" (4) !\n"
     ]
    }
   ],
   "source": [
    "# Chargement Notebook de base\n",
    "%run Base-Neo4j-Notebook.ipynb\n",
    "\n",
    "import random\n",
    "# Selection de la difficulté\n",
    "diff1 = \"uniquement des films blockbuster sortis en 2000 ou après\" \n",
    "diff2 = \"n'importe quel film\"\n",
    "difficulty = getDifficulty(diff1, diff2)\n",
    "\n",
    "random_movie = getRandomFilms(difficulty,4)\n",
    "\n",
    "# Prendre un film au hasard parmi les 4\n",
    "answer = random.randint(1, 4)\n",
    "movie = random_movie[answer-1][\"movieTitle\"]\n",
    "\n",
    "# Prendre deux acteurs au hasard dans le film\n",
    "random_actors = getRandomActorsFromMovie(movie)\n",
    "first_actor = random_actors[0][\"actorName\"]\n",
    "second_actor = random_actors[1][\"actorName\"]\n",
    "\n",
    "# Questions à l'utilisateur \n",
    "print(\"\\nDans quel film\",first_actor,\"joue avec\",second_actor,\"?\")\n",
    "for i in range(4):\n",
    "    print(\" -\",i+1,\":\",random_movie[i][\"movieTitle\"])\n",
    "playerAnswer = getNumber(\"Saisir votre réponse : \",[1, 2, 3, 4])\n",
    "\n",
    "# Résultat\n",
    "if playerAnswer == answer:\n",
    "    print(\"\\nBravo, le film était bien \\\"\", movie, \"\\\" (\",answer,\") !\", sep=\"\")\n",
    "else:\n",
    "    print(\"\\nDommage... , le film était \\\"\", movie, \"\\\" (\",answer,\") !\", sep=\"\")"
   ]
  },
  {
   "cell_type": "code",
   "execution_count": null,
   "id": "98769cd2-a13e-4087-ae41-40ca90ce2765",
   "metadata": {},
   "outputs": [],
   "source": []
  }
 ],
 "metadata": {
  "kernelspec": {
   "display_name": "_env_virtuel_neo",
   "language": "python",
   "name": "_env_virtuel_neo"
  },
  "language_info": {
   "codemirror_mode": {
    "name": "ipython",
    "version": 3
   },
   "file_extension": ".py",
   "mimetype": "text/x-python",
   "name": "python",
   "nbconvert_exporter": "python",
   "pygments_lexer": "ipython3",
   "version": "3.12.3"
  }
 },
 "nbformat": 4,
 "nbformat_minor": 5
}
