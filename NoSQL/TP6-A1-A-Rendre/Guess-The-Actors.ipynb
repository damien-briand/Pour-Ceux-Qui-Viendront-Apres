{
 "cells": [
  {
   "cell_type": "markdown",
   "id": "26aff883-2c72-4d6a-906d-229cde2c29b9",
   "metadata": {},
   "source": [
    "# Guess The Actors Game\n",
    "\n",
    "Essayer de deviner un acteur qui a jouer dans un film choisi aléatoirement."
   ]
  },
  {
   "cell_type": "code",
   "execution_count": 10,
   "id": "cb9b7bd8-ab5f-4f8d-91fa-aa8a5ac6df1f",
   "metadata": {},
   "outputs": [
    {
     "name": "stdout",
     "output_type": "stream",
     "text": [
      "Selection du niveau de difficulté souhaité :\n",
      " - 1 : uniquement des films blockbuster sortis en 2000 ou après\n",
      " - 2 : question sur n'importe quel film\n"
     ]
    },
    {
     "name": "stdin",
     "output_type": "stream",
     "text": [
      "Choisissez une difficulté (1 ou 2) :  1\n"
     ]
    },
    {
     "name": "stdout",
     "output_type": "stream",
     "text": [
      "\n",
      "Citez un acteur/actrice qui a joué dans le film \"Pirates of the Caribbean: On Stranger Tides\"\n",
      "\n"
     ]
    },
    {
     "name": "stdin",
     "output_type": "stream",
     "text": [
      "Saisir le prénom et le nom de l'acteur/actrice :  2\n"
     ]
    },
    {
     "name": "stdout",
     "output_type": "stream",
     "text": [
      "\n",
      "Dommage... , 2 ne joue pas dans \"Pirates of the Caribbean: On Stranger Tides\" ou n'est pas en base\n",
      "\n",
      "Les principaux acteurs/actrices de \"Pirates of the Caribbean: On Stranger Tides\" sont :\n",
      " - Geoffrey Rush\n",
      " - Penélope Cruz\n",
      " - Ian McShane\n",
      " - Johnny Depp\n"
     ]
    }
   ],
   "source": [
    "# Chargement Notebook de base\n",
    "%run Base-Neo4j-Notebook.ipynb\n",
    "\n",
    "# Demander le niveau de difficulté\n",
    "diff1 = \"uniquement des films blockbuster sortis en 2000 ou après\" \n",
    "diff2 = \"question sur n'importe quel film\"\n",
    "difficulty = getDifficulty(diff1, diff2)\n",
    "\n",
    "random_m = getRandomFilms(difficulty,1)[0][\"movieTitle\"]\n",
    "all_actors = getAllActors(random_m)\n",
    "\n",
    "# Questions au joueur\n",
    "print(\"\\nCitez un acteur/actrice qui a joué dans le film \\\"\", random_m,\"\\\"\", sep=\"\")\n",
    "print(\"\")\n",
    "playerAnswer = input(\"Saisir le prénom et le nom de l'acteur/actrice : \")\n",
    "\n",
    "# Vérification de la réponse\n",
    "index = next((i for i, actor in enumerate(all_actors) if actor[\"actorName\"].lower() == playerAnswer.lower()), -1)\n",
    "\n",
    "# Affichage du résultat\n",
    "if index != -1:\n",
    "    print(\"\\nBien joué, \",playerAnswer,\" joue bien dans \\\"\",random_m,\"\\\" !\", sep=\"\")\n",
    "else:\n",
    "    print(\"\\nDommage... , \",playerAnswer,\" ne joue pas dans \\\"\",random_m,\"\\\" ou n'est pas en base\", sep=\"\")\n",
    "\n",
    "# Affichage des acteurs\n",
    "print(\"\\nLes principaux acteurs/actrices de \\\"\", random_m,\"\\\" sont :\", sep=\"\")\n",
    "for a in all_actors:\n",
    "    print(\" -\",a[\"actorName\"])"
   ]
  },
  {
   "cell_type": "code",
   "execution_count": null,
   "id": "e4f4b8f1-e14d-463e-925c-2fc66f4e89b4",
   "metadata": {},
   "outputs": [],
   "source": []
  }
 ],
 "metadata": {
  "kernelspec": {
   "display_name": "_env_virtuel_neo",
   "language": "python",
   "name": "_env_virtuel_neo"
  },
  "language_info": {
   "codemirror_mode": {
    "name": "ipython",
    "version": 3
   },
   "file_extension": ".py",
   "mimetype": "text/x-python",
   "name": "python",
   "nbconvert_exporter": "python",
   "pygments_lexer": "ipython3",
   "version": "3.12.3"
  }
 },
 "nbformat": 4,
 "nbformat_minor": 5
}
