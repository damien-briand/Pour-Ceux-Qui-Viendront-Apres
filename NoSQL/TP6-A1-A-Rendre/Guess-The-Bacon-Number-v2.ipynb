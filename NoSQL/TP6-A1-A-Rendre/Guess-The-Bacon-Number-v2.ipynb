{
 "cells": [
  {
   "cell_type": "markdown",
   "id": "6578be6b-60e7-40cb-97d9-cb916fe56adb",
   "metadata": {},
   "source": [
    "# Guess The Bacon Number\n",
    "\n",
    "The Bacon number (le « nombre de Bacon ») d'un acteur est le chiffre caractérisé par le degré de séparation qu'il a avec Kevin Bacon.\n",
    "\n",
    "Ce jeu consiste a trouver le Bacon number entre deux acteurs tiré au hasard."
   ]
  },
  {
   "cell_type": "code",
   "execution_count": 12,
   "id": "45911a50-705f-4810-8466-9c2c5555c398",
   "metadata": {},
   "outputs": [
    {
     "name": "stdout",
     "output_type": "stream",
     "text": [
      "Selection du niveau de difficulté souhaité :\n",
      " - 1 : uniquement des acteurs ayant joué dans au moins 20 films ou plus\n",
      " - 2 : n'importe quels acteurs parmis ceux de la base\n"
     ]
    },
    {
     "name": "stdin",
     "output_type": "stream",
     "text": [
      "Choisissez une difficulté (1 ou 2) :  1\n"
     ]
    },
    {
     "name": "stdout",
     "output_type": "stream",
     "text": [
      "\n",
      " Deviner le Bacon Number entre : Gary Oldman et Kate Winslet\n"
     ]
    },
    {
     "name": "stdin",
     "output_type": "stream",
     "text": [
      "Entrez votre réponse :  2\n"
     ]
    },
    {
     "name": "stdout",
     "output_type": "stream",
     "text": [
      "\n",
      "Gagner, Le Bacon Number est bien 2 !\n",
      "\n",
      "Le(s) film(s) qui relie(nt) ces 2 acteurs sont :\n",
      " - Léon: The Professional (a.k.a. The Professional) (Léon)\n",
      " - Flushed Away\n"
     ]
    }
   ],
   "source": [
    "# Chargement Notebook de base\n",
    "%run Base-Neo4j-Notebook.ipynb\n",
    "\n",
    "# Demander au joueur le niveau de difficulté souhaité\n",
    "diff1 = \"uniquement des acteurs ayant joué dans au moins 20 films ou plus\" \n",
    "diff2 = \"n'importe quels acteurs parmis ceux de la base\"\n",
    "difficulty = getDifficulty(diff1, diff2)\n",
    "\n",
    "# Tirer deux acteurs au hasard en prenant en compte la difficulté renseignée\n",
    "random_actors = getRandomActors(difficulty)\n",
    "first_actor = random_actors[0][\"actorName\"]\n",
    "second_actor = random_actors[1][\"actorName\"]\n",
    "\n",
    "# Récupérer la liste des films du chemin le plus court entre les deux acteurs\n",
    "movies = getShortestMoviePath(first_actor,second_actor)\n",
    "answer = len(movies)\n",
    "\n",
    "# Question joueur\n",
    "print(\"\\n Deviner le Bacon Number entre :\", first_actor, \"et\", second_actor)\n",
    "playerAnswer = getNumber(\"Entrez votre réponse : \")\n",
    "\n",
    "# Afficher le résultat\n",
    "if playerAnswer == answer:\n",
    "    print(\"\\nGagner, Le Bacon Number est bien\" ,answer, \"!\")\n",
    "elif answer == 0:\n",
    "    print(\"\\nIl n'existe pas de lien entre\", first_actor, \"et\", second_actor)\n",
    "else:\n",
    "    print(\"\\nDommage... , Le Bacon Number etait\", answer)\n",
    "\n",
    "if answer != 0:\n",
    "    print(\"\\nLe(s) film(s) qui relie(nt) ces 2 acteurs sont :\")\n",
    "\n",
    "# Lister les films en base qui séparent les deux acteurs\n",
    "for movie in movies:\n",
    "    print(\" -\",movie[\"movieTitle\"])"
   ]
  },
  {
   "cell_type": "code",
   "execution_count": null,
   "id": "1b51ae5a-a979-4703-aaa1-6c3575288b1b",
   "metadata": {},
   "outputs": [],
   "source": []
  }
 ],
 "metadata": {
  "kernelspec": {
   "display_name": "_env_virtuel_neo",
   "language": "python",
   "name": "_env_virtuel_neo"
  },
  "language_info": {
   "codemirror_mode": {
    "name": "ipython",
    "version": 3
   },
   "file_extension": ".py",
   "mimetype": "text/x-python",
   "name": "python",
   "nbconvert_exporter": "python",
   "pygments_lexer": "ipython3",
   "version": "3.12.3"
  }
 },
 "nbformat": 4,
 "nbformat_minor": 5
}
